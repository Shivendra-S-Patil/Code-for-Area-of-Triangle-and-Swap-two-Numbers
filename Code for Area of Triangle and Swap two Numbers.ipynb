{
 "cells": [
  {
   "cell_type": "code",
   "execution_count": 10,
   "id": "481142b6",
   "metadata": {},
   "outputs": [],
   "source": [
    "# Calculate Area of Triangle"
   ]
  },
  {
   "cell_type": "code",
   "execution_count": 11,
   "id": "4c1b1ea6",
   "metadata": {},
   "outputs": [
    {
     "name": "stdout",
     "output_type": "stream",
     "text": [
      "Enter height of Triangle: 11\n",
      "Enter base of Triangle: 99\n",
      "Area pf triangle:  544.5\n"
     ]
    }
   ],
   "source": [
    "height = float(input(\"Enter height of Triangle: \")) #This line prompts the user to enter the height of the triangle\n",
    "\n",
    "base = float(input(\"Enter base of Triangle: \")) #This line prompts the user to enter the base of the triangle\n",
    "\n",
    "#float(...) converts the user input (which is initially a string) into a floating-point number and assigns it to the variable \"height and base\"\n",
    "\n",
    "area = (0.5)*base*height\n",
    "#This line calculates the area of the triangle using the formula for the area of a triangle, which is (base * height) / 2 or equivalently 0.5 * base * height.\n",
    "\n",
    "print(\"Area pf triangle: \", area ) #This line prints the calculated area of the triangle."
   ]
  },
  {
   "cell_type": "code",
   "execution_count": 12,
   "id": "b52cf8bf",
   "metadata": {},
   "outputs": [],
   "source": [
    "# Swap two variable in Python\n",
    "# With using Third Variable"
   ]
  },
  {
   "cell_type": "code",
   "execution_count": 13,
   "id": "d4c9557f",
   "metadata": {},
   "outputs": [
    {
     "name": "stdout",
     "output_type": "stream",
     "text": [
      "Value of temp variable is  13\n",
      "Value of x is  12\n",
      "Value of y is  13\n"
     ]
    }
   ],
   "source": [
    "x = 13 #This line assigns the integer value 13 to the variable x.\n",
    "y = 12 #This line assigns the integer value 12 to the variable y.\n",
    "\n",
    "temp = x #This line creates a new variable temp and assigns the current value of x (which is 13) to temp.\n",
    "print(\"Value of temp variable is \", temp) #This line prints the message \"Value of temp variable is \" along with the value stored in the variable temp, which is 13.\n",
    "\n",
    "x = y #This line assigns the value of y (which is 12) to the variable x, effectively changing the value of x from 13 to 12.\n",
    "print(\"Value of x is \", x) #This line prints the message \"Value of x is \" along with the current value of x, which is 12 after the assignment in the previous line.\n",
    "\n",
    "y = temp #This line assigns the value stored in the variable temp (which is 13) back to the variable y, reverting y from 12 to 13.\n",
    "print(\"Value of y is \", y) #This line prints the message \"Value of y is \" along with the current value of y, which is 13 after the assignment in line 7"
   ]
  },
  {
   "cell_type": "code",
   "execution_count": 14,
   "id": "a2142298",
   "metadata": {},
   "outputs": [],
   "source": [
    "# Without using third variable"
   ]
  },
  {
   "cell_type": "code",
   "execution_count": 16,
   "id": "fe1b34d1",
   "metadata": {},
   "outputs": [
    {
     "name": "stdout",
     "output_type": "stream",
     "text": [
      "Value of x is  99\n",
      "Value of y is  11\n"
     ]
    }
   ],
   "source": [
    "x = 11 #This line assigns the integer value 11 to the variable x.\n",
    "y = 99 #This line assigns the integer value 99 to the variable y\n",
    "\n",
    "x,y = y,x\n",
    "#The values on the right side of the assignment (y, x) form a tuple (99, 11), \n",
    "# and they are assigned to the variables on the left side of the assignment (x, y) in order. \n",
    "# This means y gets the value 99, and x gets the value 11.\n",
    "\n",
    "print(\"Value of x is \", x) #This line prints the message \"Value of x is \" along with the current value of x, which is now 99\n",
    "print(\"Value of y is \", y) #This line prints the message \"Value of y is \" along with the current value of y, which is now 11"
   ]
  },
  {
   "cell_type": "code",
   "execution_count": null,
   "id": "c622c4b6",
   "metadata": {},
   "outputs": [],
   "source": []
  }
 ],
 "metadata": {
  "kernelspec": {
   "display_name": "Python 3 (ipykernel)",
   "language": "python",
   "name": "python3"
  },
  "language_info": {
   "codemirror_mode": {
    "name": "ipython",
    "version": 3
   },
   "file_extension": ".py",
   "mimetype": "text/x-python",
   "name": "python",
   "nbconvert_exporter": "python",
   "pygments_lexer": "ipython3",
   "version": "3.9.13"
  }
 },
 "nbformat": 4,
 "nbformat_minor": 5
}
